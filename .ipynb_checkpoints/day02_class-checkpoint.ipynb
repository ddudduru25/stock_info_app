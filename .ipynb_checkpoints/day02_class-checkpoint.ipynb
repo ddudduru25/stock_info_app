{
 "cells": [
  {
   "cell_type": "code",
   "execution_count": 1,
   "id": "5ed0b501",
   "metadata": {},
   "outputs": [
    {
     "name": "stdout",
     "output_type": "stream",
     "text": [
      "123500\n",
      "Python is powerful.\n"
     ]
    }
   ],
   "source": [
    "abc=123400\n",
    "print(abc+100)\n",
    "string = \"Python is \"\n",
    "string2 = \"powerful.\"\n",
    "print(string + string2)"
   ]
  },
  {
   "cell_type": "code",
   "execution_count": 2,
   "id": "49355f2a",
   "metadata": {},
   "outputs": [
    {
     "name": "stdout",
     "output_type": "stream",
     "text": [
      "7\n",
      "3\n",
      "10\n",
      "2\n",
      "1\n",
      "25\n"
     ]
    },
    {
     "data": {
      "text/plain": [
       "2.0"
      ]
     },
     "execution_count": 2,
     "metadata": {},
     "output_type": "execute_result"
    }
   ],
   "source": [
    "type(1234)\n",
    "type(123.45)\n",
    "type(5+2)\n",
    "print(5+2)\n",
    "print(5-2)\n",
    "print(5*2)\n",
    "print(5//2)\n",
    "print(5%2)\n",
    "print(5**2)\n",
    "6/3\n"
   ]
  },
  {
   "cell_type": "code",
   "execution_count": 5,
   "id": "498604d1",
   "metadata": {},
   "outputs": [
    {
     "name": "stdout",
     "output_type": "stream",
     "text": [
      "6\n"
     ]
    }
   ],
   "source": [
    "print(\"hello\" + \" \" + \"Python\" + \"!\")\n",
    "print(\"Python\"*3)\n",
    "print(len(\"python\"))"
   ]
  },
  {
   "cell_type": "code",
   "execution_count": 6,
   "id": "a835e1ba",
   "metadata": {},
   "outputs": [
    {
     "name": "stdout",
     "output_type": "stream",
     "text": [
      "[1.5, 2.6, '문자열1', 'abc']\n",
      "4\n",
      "[]\n",
      "0\n"
     ]
    }
   ],
   "source": [
    "list_mix1 = [1.5, 2.6, '문자열1', 'abc']\n",
    "list_empty = []\n",
    "print(list_mix1)\n",
    "print(len(list_mix1))\n",
    "print(list_empty)\n",
    "print(len(list_empty))\n",
    "\n",
    "list_str1 = [\"기술이\", \"강한 나라 \"]\n",
    "list_str2 = [\"우리나라 \", \"대한 민국 \"]\n",
    "list_str3 = list_str1+list_str2\n",
    "list_str4 = list_str2 *2 "
   ]
  },
  {
   "cell_type": "code",
   "execution_count": null,
   "id": "0e2c1bda",
   "metadata": {},
   "outputs": [],
   "source": []
  }
 ],
 "metadata": {
  "kernelspec": {
   "display_name": "Python 3 (ipykernel)",
   "language": "python",
   "name": "python3"
  },
  "language_info": {
   "codemirror_mode": {
    "name": "ipython",
    "version": 3
   },
   "file_extension": ".py",
   "mimetype": "text/x-python",
   "name": "python",
   "nbconvert_exporter": "python",
   "pygments_lexer": "ipython3",
   "version": "3.9.13"
  }
 },
 "nbformat": 4,
 "nbformat_minor": 5
}
