{
 "cells": [
  {
   "cell_type": "code",
   "execution_count": 3,
   "id": "7b204567",
   "metadata": {},
   "outputs": [
    {
     "name": "stdout",
     "output_type": "stream",
     "text": [
      "Hello Jupyter Notebook!\n"
     ]
    }
   ],
   "source": [
    "print(\"Hello Jupyter Notebook!\")"
   ]
  },
  {
   "cell_type": "code",
   "execution_count": 2,
   "id": "7d24c1b2",
   "metadata": {},
   "outputs": [
    {
     "name": "stdout",
     "output_type": "stream",
     "text": [
      "Jupyter Notebook: code line 1\n",
      "Jupyter Notebook: code line 2\n",
      "Jupyter Notebook: code line 3\n"
     ]
    }
   ],
   "source": [
    "print(\"Jupyter Notebook: code line 1\")\n",
    "print(\"Jupyter Notebook: code line 2\")\n",
    "print(\"Jupyter Notebook: code line 3\")"
   ]
  },
  {
   "cell_type": "code",
   "execution_count": null,
   "id": "1f7dcfd8",
   "metadata": {},
   "outputs": [],
   "source": []
  }
 ],
 "metadata": {
  "kernelspec": {
   "display_name": "Python 3 (ipykernel)",
   "language": "python",
   "name": "python3"
  },
  "language_info": {
   "codemirror_mode": {
    "name": "ipython",
    "version": 3
   },
   "file_extension": ".py",
   "mimetype": "text/x-python",
   "name": "python",
   "nbconvert_exporter": "python",
   "pygments_lexer": "ipython3",
   "version": "3.9.13"
  }
 },
 "nbformat": 4,
 "nbformat_minor": 5
}
