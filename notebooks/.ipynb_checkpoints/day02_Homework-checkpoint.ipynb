{
 "cells": [
  {
   "cell_type": "markdown",
   "id": "d4fb9156",
   "metadata": {
    "id": "d4fb9156"
   },
   "source": [
    "# [실습 1] 2.1.1 변수\n",
    "\n",
    "*naver_url*이라는 변수를 만들고, 네이버의 주소를 할당해주세요.  \n",
    "할당 후에는 *print()*를 이용해 변수를 출력해보세요.\n",
    "\n",
    "``` python\n",
    "# 힌트\n",
    "변수명 = \"네이버 주소\"\n",
    "print(변수명)\n",
    "```"
   ]
  },
  {
   "cell_type": "code",
   "execution_count": 1,
   "id": "86eb6a53",
   "metadata": {
    "colab": {
     "base_uri": "https://localhost:8080/"
    },
    "id": "86eb6a53",
    "outputId": "a0b91785-5a08-44f9-9ec2-88ef4bea4a1c"
   },
   "outputs": [
    {
     "name": "stdout",
     "output_type": "stream",
     "text": [
      "https://www.naver.com/\n"
     ]
    }
   ],
   "source": [
    "# 여기에 코드를 작성해주세요.\n",
    "\n",
    "naver_url = \"https://www.naver.com/\"\n",
    "print(naver_url)\n"
   ]
  },
  {
   "cell_type": "markdown",
   "id": "04OxyCcORSSR",
   "metadata": {
    "id": "04OxyCcORSSR"
   },
   "source": [
    "---"
   ]
  },
  {
   "cell_type": "markdown",
   "id": "1e501fbf",
   "metadata": {
    "id": "1e501fbf"
   },
   "source": [
    "# [실습 2] 2.1.3 문자열\n",
    "\n",
    "*market_type*이라는 변수에 \"kospi\"라는 문자를 할당해주세요.  \n",
    "할당 후에는 print()를 이용해 변수를 출력해보세요.\n",
    " \n",
    "``` python\n",
    "# 힌트\n",
    "변수명 = \"할당하고자 하는 문자\"\n",
    "print(변수명)\n",
    "```"
   ]
  },
  {
   "cell_type": "code",
   "execution_count": 3,
   "id": "b80f32f6",
   "metadata": {
    "colab": {
     "base_uri": "https://localhost:8080/"
    },
    "id": "b80f32f6",
    "outputId": "5795bc2a-41f6-4b3b-df88-d920926db001"
   },
   "outputs": [
    {
     "name": "stdout",
     "output_type": "stream",
     "text": [
      "kospi\n"
     ]
    }
   ],
   "source": [
    "# 여기에 코드를 작성해주세요.\n",
    "\n",
    "market_type = \"kospi\"\n",
    "print(market_type)\n"
   ]
  },
  {
   "cell_type": "markdown",
   "id": "a3937a60",
   "metadata": {
    "id": "a3937a60"
   },
   "source": [
    "--- "
   ]
  },
  {
   "cell_type": "markdown",
   "id": "1473b3ca",
   "metadata": {
    "id": "1473b3ca"
   },
   "source": [
    "# [실습 3] 2.2.1 조건문\n",
    "\n",
    "*market_type* 변수를 만들고, \"kospi\" 또는 \"kosdaq\"을 대입하세요.   \n",
    "그다음 *market_type*이 \"kospi\"라면 \"마켓 타입은 코스피입니다\"를 출력하고, *market_type*이 \"kosdaq\"이라면 \"마켓 타입은 코스닥입니다\"를 출력하세요.\n",
    "  \n",
    "``` python\n",
    "# 힌트\n",
    "market_type = \"kospi\"  # 먼저 market_type 변수를 반드시 만들어야 해요.\n",
    "\n",
    "market_type이 kospi라면:\n",
    "  \"마켓 타입은 코스피입니다\"를 출력\n",
    "market_type이 kosdaq이라면:\n",
    "  \"마켓 타입은 코스닥입니다\"를 출력\n",
    "```"
   ]
  },
  {
   "cell_type": "code",
   "execution_count": 5,
   "id": "0e7b7233",
   "metadata": {
    "colab": {
     "base_uri": "https://localhost:8080/"
    },
    "id": "0e7b7233",
    "outputId": "8d9a22e8-0d04-439c-85b9-9d46099ecdb9"
   },
   "outputs": [
    {
     "name": "stdout",
     "output_type": "stream",
     "text": [
      "마켓 타입은 코스피입니다\n"
     ]
    }
   ],
   "source": [
    "# 아래에 코드를 작성해주세요.\n",
    "market_type = \"kospi\"\n",
    "\n",
    "if(market_type == \"kospi\"):\n",
    "    print(\"마켓 타입은 코스피입니다\")\n",
    "elif(market_type == \"kosdaq\"):\n",
    "    print(\"마켓 타입은 코스닥입니다\")\n"
   ]
  },
  {
   "cell_type": "markdown",
   "id": "9a6b2948",
   "metadata": {
    "id": "9a6b2948"
   },
   "source": [
    "---"
   ]
  },
  {
   "cell_type": "markdown",
   "id": "eed9eda4",
   "metadata": {
    "id": "eed9eda4"
   },
   "source": [
    "# [실습 4] 2.3.2 형식 지정 출력\n",
    "\n",
    "**변수 name, address, age를 만들고 알맞은 값을 대입하세요.\n",
    "string.format() 함수를 이용해 다음과 같이 출력하세요.**\n",
    "\n",
    "내 이름은 _ 입니다. 나는 _ 살이고, _에 삽니다.\n",
    "  \n",
    "``` python\n",
    "# 힌트\n",
    "name =    # 먼저 이름, 나이, 주소 변수를 만들어야 해요. \n",
    "age = \n",
    "address = \n",
    "\n",
    "print(\"출력하고자 하는 문장을 작성해주세요. 이름, 주소, 나이는 {숫자}로 순서를 지정해주세요\".format(변수1, 변수2, 변수3))\n",
    "```"
   ]
  },
  {
   "cell_type": "code",
   "execution_count": 6,
   "id": "b186566c",
   "metadata": {
    "colab": {
     "base_uri": "https://localhost:8080/"
    },
    "id": "b186566c",
    "outputId": "43016669-ce95-41b1-9dc4-4c06562316d7"
   },
   "outputs": [
    {
     "name": "stdout",
     "output_type": "stream",
     "text": [
      "내 이름은 레몬레몬파워입니다. 나는 23살 이고, 안양시에 삽니다\n"
     ]
    }
   ],
   "source": [
    "# 아래에 코드를 작성해주세요.\n",
    "name = \"레몬레몬파워\"\n",
    "age = \"23\"\n",
    "address = \"안양시\"\n",
    "\n",
    "print(\"내 이름은 {0}입니다. 나는 {1}살 이고, {2}에 삽니다\".format(name, age, address))\n"
   ]
  },
  {
   "cell_type": "markdown",
   "id": "njqy2U6hVvlW",
   "metadata": {
    "id": "njqy2U6hVvlW"
   },
   "source": [
    "---"
   ]
  },
  {
   "cell_type": "markdown",
   "id": "tCqPLac8V0El",
   "metadata": {
    "id": "tCqPLac8V0El"
   },
   "source": [
    "# 한 걸음 더\n",
    "\n",
    "오늘 공부한 변수, 문자열, 조건문, 기본 출력, 형식 지정 출력은 최종 코드에서 다음과 같이 활용됩니다.\n",
    "\n",
    "``` python\n",
    "base_url =  \"http://kind.krx.co.kr/corpgeneral/corpList.do\"\n",
    "method = \"download\"\n",
    "maket_type = \"\"\n",
    "\n",
    "if maket_type == 'kospi':\n",
    "  marketType = \"stockMkt\"  # 주식 종목이 코스피인 경우\n",
    "elif maket_type == 'kosdaq':\n",
    "  marketType = \"kosdaqMkt\" # 주식 종목이 코스닥인 경우\n",
    "elif maket_type == None:\n",
    "  marketType = \"\"\n",
    "\n",
    "url = \"{0}?method={1}&marketType={2}\".format(base_url, method, marketType)\n",
    "print(url)\n",
    "```"
   ]
  },
  {
   "cell_type": "markdown",
   "id": "P7HzArU_YMvm",
   "metadata": {
    "id": "P7HzArU_YMvm"
   },
   "source": [
    "한국 거래소(KRX)에서 *코스피* 상장법인 목록을 내려받을 수 있는 주소는 아래와 같습니다. marketType= 뒤의 주소가 *stockMkt*입니다.\n",
    "\n",
    "http://kind.krx.co.kr/corpgeneral/corpList.do?method=download&marketType=stockMkt\n",
    "\n",
    "\n",
    "한국 거래소(KRX)에서 *코스닥* 상장법인 목록을 내려받을 수 있는 주소는 아래와 같습니다. marketType= 뒤의 주소가 *kosdaqMkt*입니다.\n",
    "\n",
    "http://kind.krx.co.kr/corpgeneral/corpList.do?method=download&marketType=kosdaqMkt"
   ]
  },
  {
   "cell_type": "markdown",
   "id": "DOtcH8cAb7_8",
   "metadata": {
    "id": "DOtcH8cAb7_8"
   },
   "source": [
    "마켓 유형(코스피/코스닥)에 따라 알맞은 상장법인 목록을 가져올 수 있도록 **변수**, **조건문**, **형식 지정 출력**을 활용합니다."
   ]
  },
  {
   "cell_type": "markdown",
   "id": "cY3EM5tKYiJD",
   "metadata": {
    "id": "cY3EM5tKYiJD"
   },
   "source": [
    "## 1단계\n",
    "\n",
    "한국 거래소(KRX)의 주소가 길어 복잡하므로 앞부분의 URL을 base_url 변수에 담아둡니다."
   ]
  },
  {
   "cell_type": "code",
   "execution_count": 29,
   "id": "AKATMA4sYKct",
   "metadata": {
    "colab": {
     "base_uri": "https://localhost:8080/"
    },
    "id": "AKATMA4sYKct",
    "outputId": "59fdb870-2c1d-46f2-cc86-1329423c4d40"
   },
   "outputs": [
    {
     "name": "stdout",
     "output_type": "stream",
     "text": [
      "http://kind.krx.co.kr/corpgeneral/corpList.do\n"
     ]
    }
   ],
   "source": [
    "base_url =  \"http://kind.krx.co.kr/corpgeneral/corpList.do\"\n",
    "print(base_url)"
   ]
  },
  {
   "cell_type": "markdown",
   "id": "-7AIcOkEaDV4",
   "metadata": {
    "id": "-7AIcOkEaDV4"
   },
   "source": [
    "엑셀 파일로 내려받기 위해 method 변수에는 \"download\"를 담아둡니다."
   ]
  },
  {
   "cell_type": "code",
   "execution_count": 45,
   "id": "j0g8AawBaCgg",
   "metadata": {
    "colab": {
     "base_uri": "https://localhost:8080/"
    },
    "id": "j0g8AawBaCgg",
    "outputId": "50521cfe-bccd-4d22-9411-6a2ec57a8d22"
   },
   "outputs": [
    {
     "name": "stdout",
     "output_type": "stream",
     "text": [
      "download\n"
     ]
    }
   ],
   "source": [
    "method = \"download\"\n",
    "print(method)"
   ]
  },
  {
   "cell_type": "markdown",
   "id": "1pIUPDILaOCf",
   "metadata": {
    "id": "1pIUPDILaOCf"
   },
   "source": [
    "## 2단계\n",
    "\n",
    "마켓 타입(market_type)이 코스피(kospi)라면 URL 뒷부분을 stockMkt로 지정하고, 마켓 타입(market_type)이 코스닥(kosdaq)이라면 URL 뒷부분을 kosdaqMkt로 지정하고, 마켓 타입이 비어 있다면 URL 뒷부분을 지정하지 않을 것입니다. \n",
    "\n",
    "따라서 market_type 변수를 만들고, market_type 변수에 따라 marketType 변수의 값을 지정합니다."
   ]
  },
  {
   "cell_type": "code",
   "execution_count": 47,
   "id": "wx6hW_6nYvbM",
   "metadata": {
    "colab": {
     "base_uri": "https://localhost:8080/"
    },
    "id": "wx6hW_6nYvbM",
    "outputId": "9b84ee68-e27c-4543-b009-e817b0f88ec0"
   },
   "outputs": [
    {
     "name": "stdout",
     "output_type": "stream",
     "text": [
      "kospi\n",
      "stockMkt\n"
     ]
    }
   ],
   "source": [
    "market_type = \"kospi\"       # 변수의 값을 kosdaq로 변경하고 실행해보세요.\n",
    "\n",
    "if market_type == 'kospi':\n",
    "  marketType = \"stockMkt\"   # 주식 종목이 코스피인 경우\n",
    "elif market_type == 'kosdaq':\n",
    "  marketType = \"kosdaqMkt\"  # 주식 종목이 코스닥인 경우\n",
    "elif market_type == None:\n",
    "  marketType = \"\"\n",
    "\n",
    "print(market_type)\n",
    "print(marketType)"
   ]
  },
  {
   "cell_type": "markdown",
   "id": "xKmHWb6dbAb3",
   "metadata": {
    "id": "xKmHWb6dbAb3"
   },
   "source": [
    "## 3단계\n",
    "\n",
    "마지막으로 완성된 URL을 만들 차례입니다. URL이 복잡하므로 2.3.2절에서 만든 format() 함수를 활용해 출력합니다."
   ]
  },
  {
   "cell_type": "code",
   "execution_count": 48,
   "id": "jqnnbc46a4KZ",
   "metadata": {
    "colab": {
     "base_uri": "https://localhost:8080/"
    },
    "id": "jqnnbc46a4KZ",
    "outputId": "9d2447b2-4f4a-419f-b2e9-20c66f425741"
   },
   "outputs": [
    {
     "name": "stdout",
     "output_type": "stream",
     "text": [
      "kospi에 필요한 URL은 http://kind.krx.co.kr/corpgeneral/corpList.do?method=download&marketType=stockMkt입니다\n"
     ]
    }
   ],
   "source": [
    "url = \"{0}?method={1}&marketType={2}\".format(base_url, method, marketType)\n",
    "print(\"{0}에 필요한 URL은 {1}입니다\".format(market_type, url))"
   ]
  }
 ],
 "metadata": {
  "colab": {
   "provenance": []
  },
  "kernelspec": {
   "display_name": "Python 3 (ipykernel)",
   "language": "python",
   "name": "python3"
  },
  "language_info": {
   "codemirror_mode": {
    "name": "ipython",
    "version": 3
   },
   "file_extension": ".py",
   "mimetype": "text/x-python",
   "name": "python",
   "nbconvert_exporter": "python",
   "pygments_lexer": "ipython3",
   "version": "3.9.13"
  }
 },
 "nbformat": 4,
 "nbformat_minor": 5
}
